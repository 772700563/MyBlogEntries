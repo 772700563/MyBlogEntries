{
 "cells": [
  {
   "cell_type": "markdown",
   "metadata": {},
   "source": [
    "# A basic exercise: remove blanks from a string\n",
    "\n",
    "This morning, after reading [this very nice post](http://lemire.me/blog/2017/01/20/how-quickly-can-you-remove-spaces-from-a-string/), I decided to challenge myself in Python and to have a look at the impact of **mispredicted branches** in a language different from C/C++. The basic idea was to use only Python builtins: external libraries are not allowed!\n",
    "\n",
    "As a benchmark, I grabbed a large text file from [P. Norvig's website](http://norvig.com/big.txt), which is 6'488'666 byte long.\n",
    "\n",
    "**The final answer?** Yes, **mispredicted branches** have a huge impact in Python too.\n",
    "\n",
    "**The hidden answer?** Python dictionaries does ever stop to surprise me: they are REALLY efficient.\n",
    "\n",
    "## First attempt: Functional style\n",
    "In Python, I prefer to write as much code in functional style as possible, relying on the 3 basic functions:\n",
    "\n",
    "1. map\n",
    "2. filter\n",
    "3. reduce\n",
    "\n",
    "Therefore, after few preliminaries, here is my first code snippet:"
   ]
  },
  {
   "cell_type": "code",
   "execution_count": 1,
   "metadata": {
    "collapsed": true
   },
   "outputs": [],
   "source": [
    "import cProfile"
   ]
  },
  {
   "cell_type": "code",
   "execution_count": 2,
   "metadata": {
    "collapsed": false
   },
   "outputs": [],
   "source": [
    "# Download file from: 'http://norvig.com/big.txt'\n",
    "big = open('big.txt', 'r')\n",
    "\n",
    "# Read the while file\n",
    "test = big.read()"
   ]
  },
  {
   "cell_type": "code",
   "execution_count": 3,
   "metadata": {
    "collapsed": true
   },
   "outputs": [],
   "source": [
    "def RemoveBlanksFilter(in_str):\n",
    "    result = filter(lambda c: c != '\\r' and c != '\\t' and c != ' ', in_str)\n",
    "    return \"\".join(result)"
   ]
  },
  {
   "cell_type": "code",
   "execution_count": 4,
   "metadata": {
    "collapsed": false
   },
   "outputs": [],
   "source": [
    "test_result = RemoveBlanksFilter(test)"
   ]
  },
  {
   "cell_type": "code",
   "execution_count": 5,
   "metadata": {
    "collapsed": false
   },
   "outputs": [
    {
     "name": "stdout",
     "output_type": "stream",
     "text": [
      "         6488671 function calls in 1.956 seconds\n",
      "\n",
      "   Ordered by: standard name\n",
      "\n",
      "   ncalls  tottime  percall  cumtime  percall filename:lineno(function)\n",
      "        1    0.000    0.000    1.955    1.955 <ipython-input-3-eeb7d3495697>:1(RemoveBlanksFilter)\n",
      "  6488666    0.870    0.000    0.870    0.000 <ipython-input-3-eeb7d3495697>:2(<lambda>)\n",
      "        1    0.000    0.000    1.956    1.956 <string>:1(<module>)\n",
      "        1    0.000    0.000    1.956    1.956 {built-in method builtins.exec}\n",
      "        1    0.000    0.000    0.000    0.000 {method 'disable' of '_lsprof.Profiler' objects}\n",
      "        1    1.085    1.085    1.955    1.955 {method 'join' of 'str' objects}\n",
      "\n",
      "\n"
     ]
    }
   ],
   "source": [
    "cProfile.run('RemoveBlanksFilter(test)')"
   ]
  },
  {
   "cell_type": "markdown",
   "metadata": {},
   "source": [
    "Wow, I didn't realize that I would have call the lambda function for every single byte of my input file. This is clearly too much overhead.\n",
    "\n",
    "## 2nd attempt: remove function calls overhead\n",
    "Let me drop my functional style, and write a plain old for-loop:"
   ]
  },
  {
   "cell_type": "code",
   "execution_count": 6,
   "metadata": {
    "collapsed": true
   },
   "outputs": [],
   "source": [
    "def RemoveBlanks(in_str):\n",
    "    result = []\n",
    "    for c in in_str:\n",
    "        if c != '\\r' and c != '\\t' and c != ' ':\n",
    "            result.append(c)\n",
    "    return \"\".join(result)"
   ]
  },
  {
   "cell_type": "code",
   "execution_count": 7,
   "metadata": {
    "collapsed": false
   },
   "outputs": [
    {
     "name": "stdout",
     "output_type": "stream",
     "text": [
      "Is test passed: True\n"
     ]
    }
   ],
   "source": [
    "print('Is test passed:', test_result == RemoveBlanks(test))"
   ]
  },
  {
   "cell_type": "code",
   "execution_count": 8,
   "metadata": {
    "collapsed": false
   },
   "outputs": [
    {
     "name": "stdout",
     "output_type": "stream",
     "text": [
      "         5452148 function calls in 1.566 seconds\n",
      "\n",
      "   Ordered by: standard name\n",
      "\n",
      "   ncalls  tottime  percall  cumtime  percall filename:lineno(function)\n",
      "        1    1.210    1.210    1.553    1.553 <ipython-input-6-5e45e3056bc2>:1(RemoveBlanks)\n",
      "        1    0.012    0.012    1.566    1.566 <string>:1(<module>)\n",
      "        1    0.000    0.000    1.566    1.566 {built-in method builtins.exec}\n",
      "  5452143    0.310    0.000    0.310    0.000 {method 'append' of 'list' objects}\n",
      "        1    0.000    0.000    0.000    0.000 {method 'disable' of '_lsprof.Profiler' objects}\n",
      "        1    0.033    0.033    0.033    0.033 {method 'join' of 'str' objects}\n",
      "\n",
      "\n"
     ]
    }
   ],
   "source": [
    "cProfile.run('RemoveBlanks(test)')"
   ]
  },
  {
   "cell_type": "markdown",
   "metadata": {},
   "source": [
    "Mmm... we just shift the problem to the list append function calls. Maybe we can do better by working in place.\n",
    "\n",
    "## 3rd attempt: work in place\n",
    "Well, almost in place: Python string are immutable; therefore, we first copy the string into a list, and then we work in place over the copied list."
   ]
  },
  {
   "cell_type": "code",
   "execution_count": 9,
   "metadata": {
    "collapsed": true
   },
   "outputs": [],
   "source": [
    "def RemoveBlanksInPlace(in_str):\n",
    "    buffer = list(in_str)\n",
    "    pos = 0\n",
    "    for c in in_str:\n",
    "        if c != '\\r' and c != '\\t' and c != ' ':\n",
    "            buffer[pos] = c\n",
    "            pos += 1\n",
    "    return \"\".join(buffer[:pos])\n"
   ]
  },
  {
   "cell_type": "code",
   "execution_count": 10,
   "metadata": {
    "collapsed": false
   },
   "outputs": [
    {
     "name": "stdout",
     "output_type": "stream",
     "text": [
      "Is test passed: True\n"
     ]
    }
   ],
   "source": [
    "print('Is test passed:', test_result == RemoveBlanksInPlace(test))"
   ]
  },
  {
   "cell_type": "code",
   "execution_count": 11,
   "metadata": {
    "collapsed": false
   },
   "outputs": [
    {
     "name": "stdout",
     "output_type": "stream",
     "text": [
      "         5 function calls in 1.158 seconds\n",
      "\n",
      "   Ordered by: standard name\n",
      "\n",
      "   ncalls  tottime  percall  cumtime  percall filename:lineno(function)\n",
      "        1    1.113    1.113    1.145    1.145 <ipython-input-9-99d36ae6359e>:1(RemoveBlanksInPlace)\n",
      "        1    0.013    0.013    1.158    1.158 <string>:1(<module>)\n",
      "        1    0.000    0.000    1.158    1.158 {built-in method builtins.exec}\n",
      "        1    0.000    0.000    0.000    0.000 {method 'disable' of '_lsprof.Profiler' objects}\n",
      "        1    0.032    0.032    0.032    0.032 {method 'join' of 'str' objects}\n",
      "\n",
      "\n"
     ]
    }
   ],
   "source": [
    "cProfile.run('RemoveBlanksInPlace(test)')"
   ]
  },
  {
   "cell_type": "markdown",
   "metadata": {},
   "source": [
    "Ok, working in place does have an impact. Let me go on the true point: avoiding *mispredicted branches*.\n",
    "    \n",
    "## 4th attempt: to avoid mispredicted branches\n",
    "As in the [original blog post](http://lemire.me/blog/2017/01/20/how-quickly-can-you-remove-spaces-from-a-string/):"
   ]
  },
  {
   "cell_type": "code",
   "execution_count": 12,
   "metadata": {
    "collapsed": true
   },
   "outputs": [],
   "source": [
    "def RemoveBlanksNoBranch(in_str):\n",
    "    # Build table\n",
    "    table = []\n",
    "    for ic in range(256):\n",
    "        c = chr(ic)\n",
    "        if c == '\\r' or c == '\\t' or c == ' ':\n",
    "            table.append(0)\n",
    "        else:\n",
    "            table.append(1)\n",
    "                \n",
    "    # Removal\n",
    "    buffer = list(in_str)\n",
    "    pos = 0\n",
    "    for c in in_str:\n",
    "        buffer[pos] = c\n",
    "        pos += table[ord(c)]  # ord() is a function --> bottleneck\n",
    "    return \"\".join(buffer[:pos])"
   ]
  },
  {
   "cell_type": "code",
   "execution_count": 13,
   "metadata": {
    "collapsed": false
   },
   "outputs": [
    {
     "name": "stdout",
     "output_type": "stream",
     "text": [
      "Is test passed: True\n"
     ]
    }
   ],
   "source": [
    "print('Is test passed:', test_result == RemoveBlanksNoBranch(test))"
   ]
  },
  {
   "cell_type": "code",
   "execution_count": 14,
   "metadata": {
    "collapsed": false
   },
   "outputs": [
    {
     "name": "stdout",
     "output_type": "stream",
     "text": [
      "         6489183 function calls in 1.474 seconds\n",
      "\n",
      "   Ordered by: standard name\n",
      "\n",
      "   ncalls  tottime  percall  cumtime  percall filename:lineno(function)\n",
      "        1    1.235    1.235    1.460    1.460 <ipython-input-12-1bd75a3de21d>:1(RemoveBlanksNoBranch)\n",
      "        1    0.014    0.014    1.474    1.474 <string>:1(<module>)\n",
      "      256    0.000    0.000    0.000    0.000 {built-in method builtins.chr}\n",
      "        1    0.000    0.000    1.474    1.474 {built-in method builtins.exec}\n",
      "  6488666    0.192    0.000    0.192    0.000 {built-in method builtins.ord}\n",
      "      256    0.000    0.000    0.000    0.000 {method 'append' of 'list' objects}\n",
      "        1    0.000    0.000    0.000    0.000 {method 'disable' of '_lsprof.Profiler' objects}\n",
      "        1    0.033    0.033    0.033    0.033 {method 'join' of 'str' objects}\n",
      "\n",
      "\n"
     ]
    }
   ],
   "source": [
    "cProfile.run('RemoveBlanksNoBranch(test)')"
   ]
  },
  {
   "cell_type": "markdown",
   "metadata": {},
   "source": [
    "Ouch!!! These are getting even worse! Why? Well, 'ord' is a function, so we are getting back the overhead of function calls. Can we do better by using a dictionary instead of an array?\n",
    "\n",
    "## 5th attempt: use a dictionary\n",
    "Let me use a dictionary in order to avoid the 'ord' function calls."
   ]
  },
  {
   "cell_type": "code",
   "execution_count": 15,
   "metadata": {
    "collapsed": true
   },
   "outputs": [],
   "source": [
    "def RemoveBlanksNoBranchDict(in_str):\n",
    "    if type(in_str) != str:\n",
    "        raise TypeError('This function works only for strings')\n",
    "    \n",
    "    # Build table\n",
    "    table = {}\n",
    "    for ic in range(256):\n",
    "        c = chr(ic)\n",
    "        if c == '\\r' or c == '\\t' or c == ' ':\n",
    "            table[c] = 0\n",
    "        else:\n",
    "            table[c] = 1\n",
    "                \n",
    "    # Removal\n",
    "    buffer = list(in_str)\n",
    "    pos = 0\n",
    "    for c in in_str:\n",
    "        buffer[pos] = c\n",
    "        pos += table[c]\n",
    "    return \"\".join(buffer[:pos])"
   ]
  },
  {
   "cell_type": "code",
   "execution_count": 16,
   "metadata": {
    "collapsed": false
   },
   "outputs": [
    {
     "name": "stdout",
     "output_type": "stream",
     "text": [
      "Is test passed: True\n"
     ]
    }
   ],
   "source": [
    "print('Is test passed:', test_result == RemoveBlanksNoBranchDict(test))"
   ]
  },
  {
   "cell_type": "code",
   "execution_count": 17,
   "metadata": {
    "collapsed": false
   },
   "outputs": [
    {
     "name": "stdout",
     "output_type": "stream",
     "text": [
      "         261 function calls in 0.771 seconds\n",
      "\n",
      "   Ordered by: standard name\n",
      "\n",
      "   ncalls  tottime  percall  cumtime  percall filename:lineno(function)\n",
      "        1    0.724    0.724    0.758    0.758 <ipython-input-15-46ad4c3f0b26>:1(RemoveBlanksNoBranchDict)\n",
      "        1    0.013    0.013    0.771    0.771 <string>:1(<module>)\n",
      "      256    0.000    0.000    0.000    0.000 {built-in method builtins.chr}\n",
      "        1    0.000    0.000    0.771    0.771 {built-in method builtins.exec}\n",
      "        1    0.000    0.000    0.000    0.000 {method 'disable' of '_lsprof.Profiler' objects}\n",
      "        1    0.034    0.034    0.034    0.034 {method 'join' of 'str' objects}\n",
      "\n",
      "\n"
     ]
    }
   ],
   "source": [
    "cProfile.run('RemoveBlanksNoBranchDict(test)')"
   ]
  },
  {
   "cell_type": "markdown",
   "metadata": {},
   "source": [
    "Oooh, yes! Now we can see that without **mispredicted branches** we can really speed up our algorithm.\n",
    "\n",
    "Is this the best pythonic solution? No, surely not, but still it is an interesting remark to keep in mind when coding.\n",
    "\n",
    "## Final remark: a simple pythonic solution\n",
    "Likely, the simplest pythonic solution is just to use the 'replace' string function as follows:"
   ]
  },
  {
   "cell_type": "code",
   "execution_count": 18,
   "metadata": {
    "collapsed": true
   },
   "outputs": [],
   "source": [
    "def RemoveBlanksBuiltin(in_str):\n",
    "    s1 = in_str.replace('\\r','')\n",
    "    s2 = s1.replace('\\t','')\n",
    "    return s2.replace(' ','')"
   ]
  },
  {
   "cell_type": "code",
   "execution_count": 19,
   "metadata": {
    "collapsed": false
   },
   "outputs": [
    {
     "name": "stdout",
     "output_type": "stream",
     "text": [
      "Is test passed: True\n"
     ]
    }
   ],
   "source": [
    "print('Is test passed:', test_result == RemoveBlanksBuiltin(test))"
   ]
  },
  {
   "cell_type": "code",
   "execution_count": 20,
   "metadata": {
    "collapsed": false
   },
   "outputs": [
    {
     "name": "stdout",
     "output_type": "stream",
     "text": [
      "         7 function calls in 0.065 seconds\n",
      "\n",
      "   Ordered by: standard name\n",
      "\n",
      "   ncalls  tottime  percall  cumtime  percall filename:lineno(function)\n",
      "        1    0.001    0.001    0.064    0.064 <ipython-input-18-58fd6655cfba>:1(RemoveBlanksBuiltin)\n",
      "        1    0.001    0.001    0.065    0.065 <string>:1(<module>)\n",
      "        1    0.000    0.000    0.065    0.065 {built-in method builtins.exec}\n",
      "        1    0.000    0.000    0.000    0.000 {method 'disable' of '_lsprof.Profiler' objects}\n",
      "        3    0.063    0.021    0.063    0.021 {method 'replace' of 'str' objects}\n",
      "\n",
      "\n"
     ]
    }
   ],
   "source": [
    "cProfile.run('RemoveBlanksBuiltin(test)')"
   ]
  },
  {
   "cell_type": "markdown",
   "metadata": {
    "collapsed": true
   },
   "source": [
    "Here we are, the best solution is indeed to use a builtin function, whenever it is possible, even if this was not the real aim of this exercise.\n",
    "\n",
    "Please, let me know if you have some comments or a different solution in Python."
   ]
  }
 ],
 "metadata": {
  "anaconda-cloud": {},
  "kernelspec": {
   "display_name": "Python [conda root]",
   "language": "python",
   "name": "conda-root-py"
  },
  "language_info": {
   "codemirror_mode": {
    "name": "ipython",
    "version": 3
   },
   "file_extension": ".py",
   "mimetype": "text/x-python",
   "name": "python",
   "nbconvert_exporter": "python",
   "pygments_lexer": "ipython3",
   "version": "3.5.2"
  }
 },
 "nbformat": 4,
 "nbformat_minor": 1
}
